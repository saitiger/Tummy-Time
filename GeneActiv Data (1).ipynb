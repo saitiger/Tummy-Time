{
 "cells": [
  {
   "cell_type": "code",
   "execution_count": 1,
   "id": "fba09113",
   "metadata": {},
   "outputs": [],
   "source": [
    "import pandas as pd\n",
    "import matplotlib.pyplot as plt\n",
    "import seaborn as sns"
   ]
  },
  {
   "cell_type": "code",
   "execution_count": 2,
   "id": "f39b3b7b",
   "metadata": {},
   "outputs": [],
   "source": [
    "df = pd.read_csv(\"DATA.csv\",skiprows = 99)"
   ]
  },
  {
   "cell_type": "code",
   "execution_count": 3,
   "id": "f5d22a27",
   "metadata": {},
   "outputs": [
    {
     "data": {
      "text/html": [
       "<div>\n",
       "<style scoped>\n",
       "    .dataframe tbody tr th:only-of-type {\n",
       "        vertical-align: middle;\n",
       "    }\n",
       "\n",
       "    .dataframe tbody tr th {\n",
       "        vertical-align: top;\n",
       "    }\n",
       "\n",
       "    .dataframe thead th {\n",
       "        text-align: right;\n",
       "    }\n",
       "</style>\n",
       "<table border=\"1\" class=\"dataframe\">\n",
       "  <thead>\n",
       "    <tr style=\"text-align: right;\">\n",
       "      <th></th>\n",
       "      <th>Unnamed: 0</th>\n",
       "      <th>Unnamed: 1</th>\n",
       "      <th>Unnamed: 2</th>\n",
       "      <th>Unnamed: 3</th>\n",
       "      <th>Unnamed: 4</th>\n",
       "      <th>Unnamed: 5</th>\n",
       "      <th>Unnamed: 6</th>\n",
       "      <th>Unnamed: 7</th>\n",
       "      <th>Unnamed: 8</th>\n",
       "      <th>Unnamed: 9</th>\n",
       "      <th>Unnamed: 10</th>\n",
       "      <th>Unnamed: 11</th>\n",
       "      <th>Unnamed: 12</th>\n",
       "      <th>360 angle</th>\n",
       "      <th>Up/down angle</th>\n",
       "      <th>Observed position</th>\n",
       "      <th>Body Rotation</th>\n",
       "      <th>Prone-sit class</th>\n",
       "      <th>Supine-recline class</th>\n",
       "      <th>Overall class</th>\n",
       "    </tr>\n",
       "  </thead>\n",
       "  <tbody>\n",
       "    <tr>\n",
       "      <th>0</th>\n",
       "      <td>2024-08-01 11:50:17:000</td>\n",
       "      <td>0.0082</td>\n",
       "      <td>-0.057</td>\n",
       "      <td>-0.9780</td>\n",
       "      <td>74</td>\n",
       "      <td>0</td>\n",
       "      <td>30.5</td>\n",
       "      <td>NaN</td>\n",
       "      <td>NaN</td>\n",
       "      <td>NaN</td>\n",
       "      <td>NaN</td>\n",
       "      <td>NaN</td>\n",
       "      <td>NaN</td>\n",
       "      <td>180.480383</td>\n",
       "      <td>-3.337126</td>\n",
       "      <td>NaN</td>\n",
       "      <td>supine-recline</td>\n",
       "      <td>NaN</td>\n",
       "      <td>left side</td>\n",
       "      <td>left side</td>\n",
       "    </tr>\n",
       "    <tr>\n",
       "      <th>1</th>\n",
       "      <td>2024-08-01 11:50:17:010</td>\n",
       "      <td>0.0122</td>\n",
       "      <td>-0.073</td>\n",
       "      <td>-0.9899</td>\n",
       "      <td>74</td>\n",
       "      <td>0</td>\n",
       "      <td>30.5</td>\n",
       "      <td>NaN</td>\n",
       "      <td>NaN</td>\n",
       "      <td>NaN</td>\n",
       "      <td>NaN</td>\n",
       "      <td>NaN</td>\n",
       "      <td>NaN</td>\n",
       "      <td>180.706105</td>\n",
       "      <td>-4.219453</td>\n",
       "      <td>NaN</td>\n",
       "      <td>supine-recline</td>\n",
       "      <td>NaN</td>\n",
       "      <td>left side</td>\n",
       "      <td>left side</td>\n",
       "    </tr>\n",
       "    <tr>\n",
       "      <th>2</th>\n",
       "      <td>2024-08-01 11:50:17:020</td>\n",
       "      <td>0.0082</td>\n",
       "      <td>-0.073</td>\n",
       "      <td>-0.9780</td>\n",
       "      <td>74</td>\n",
       "      <td>0</td>\n",
       "      <td>30.5</td>\n",
       "      <td>NaN</td>\n",
       "      <td>NaN</td>\n",
       "      <td>NaN</td>\n",
       "      <td>NaN</td>\n",
       "      <td>NaN</td>\n",
       "      <td>NaN</td>\n",
       "      <td>180.480383</td>\n",
       "      <td>-4.270778</td>\n",
       "      <td>NaN</td>\n",
       "      <td>supine-recline</td>\n",
       "      <td>NaN</td>\n",
       "      <td>left side</td>\n",
       "      <td>left side</td>\n",
       "    </tr>\n",
       "    <tr>\n",
       "      <th>3</th>\n",
       "      <td>2024-08-01 11:50:17:030</td>\n",
       "      <td>0.0162</td>\n",
       "      <td>-0.077</td>\n",
       "      <td>-0.9899</td>\n",
       "      <td>74</td>\n",
       "      <td>0</td>\n",
       "      <td>30.5</td>\n",
       "      <td>NaN</td>\n",
       "      <td>NaN</td>\n",
       "      <td>NaN</td>\n",
       "      <td>NaN</td>\n",
       "      <td>NaN</td>\n",
       "      <td>NaN</td>\n",
       "      <td>180.937578</td>\n",
       "      <td>-4.449495</td>\n",
       "      <td>NaN</td>\n",
       "      <td>supine-recline</td>\n",
       "      <td>NaN</td>\n",
       "      <td>left side</td>\n",
       "      <td>left side</td>\n",
       "    </tr>\n",
       "    <tr>\n",
       "      <th>4</th>\n",
       "      <td>2024-08-01 11:50:17:040</td>\n",
       "      <td>0.0082</td>\n",
       "      <td>-0.073</td>\n",
       "      <td>-0.9740</td>\n",
       "      <td>74</td>\n",
       "      <td>0</td>\n",
       "      <td>30.5</td>\n",
       "      <td>NaN</td>\n",
       "      <td>NaN</td>\n",
       "      <td>NaN</td>\n",
       "      <td>NaN</td>\n",
       "      <td>NaN</td>\n",
       "      <td>NaN</td>\n",
       "      <td>180.482356</td>\n",
       "      <td>-4.288251</td>\n",
       "      <td>NaN</td>\n",
       "      <td>supine-recline</td>\n",
       "      <td>NaN</td>\n",
       "      <td>left side</td>\n",
       "      <td>left side</td>\n",
       "    </tr>\n",
       "  </tbody>\n",
       "</table>\n",
       "</div>"
      ],
      "text/plain": [
       "                Unnamed: 0  Unnamed: 1  Unnamed: 2  Unnamed: 3  Unnamed: 4  \\\n",
       "0  2024-08-01 11:50:17:000      0.0082      -0.057     -0.9780          74   \n",
       "1  2024-08-01 11:50:17:010      0.0122      -0.073     -0.9899          74   \n",
       "2  2024-08-01 11:50:17:020      0.0082      -0.073     -0.9780          74   \n",
       "3  2024-08-01 11:50:17:030      0.0162      -0.077     -0.9899          74   \n",
       "4  2024-08-01 11:50:17:040      0.0082      -0.073     -0.9740          74   \n",
       "\n",
       "   Unnamed: 5  Unnamed: 6  Unnamed: 7  Unnamed: 8  Unnamed: 9  Unnamed: 10  \\\n",
       "0           0        30.5         NaN         NaN         NaN          NaN   \n",
       "1           0        30.5         NaN         NaN         NaN          NaN   \n",
       "2           0        30.5         NaN         NaN         NaN          NaN   \n",
       "3           0        30.5         NaN         NaN         NaN          NaN   \n",
       "4           0        30.5         NaN         NaN         NaN          NaN   \n",
       "\n",
       "   Unnamed: 11  Unnamed: 12  360 angle   Up/down angle  Observed position  \\\n",
       "0          NaN          NaN  180.480383      -3.337126                NaN   \n",
       "1          NaN          NaN  180.706105      -4.219453                NaN   \n",
       "2          NaN          NaN  180.480383      -4.270778                NaN   \n",
       "3          NaN          NaN  180.937578      -4.449495                NaN   \n",
       "4          NaN          NaN  180.482356      -4.288251                NaN   \n",
       "\n",
       "    Body Rotation Prone-sit class Supine-recline class  Overall class   \n",
       "0  supine-recline             NaN             left side      left side  \n",
       "1  supine-recline             NaN             left side      left side  \n",
       "2  supine-recline             NaN             left side      left side  \n",
       "3  supine-recline             NaN             left side      left side  \n",
       "4  supine-recline             NaN             left side      left side  "
      ]
     },
     "execution_count": 3,
     "metadata": {},
     "output_type": "execute_result"
    }
   ],
   "source": [
    "df.head()"
   ]
  },
  {
   "cell_type": "code",
   "execution_count": 4,
   "id": "3331a252",
   "metadata": {},
   "outputs": [],
   "source": [
    "df.drop(df.columns[[5,7,8,9,10,11,12]], axis=1, inplace = True)"
   ]
  },
  {
   "cell_type": "code",
   "execution_count": 5,
   "id": "0ffb9cbc",
   "metadata": {},
   "outputs": [],
   "source": [
    "df = df.rename(columns = {'Unnamed: 0':'Timing'})"
   ]
  },
  {
   "cell_type": "code",
   "execution_count": 6,
   "id": "2454d133",
   "metadata": {},
   "outputs": [],
   "source": [
    "df['Timing'] = pd.to_datetime(df['Timing'], format='%Y-%m-%d %H:%M:%S:%f')"
   ]
  },
  {
   "cell_type": "code",
   "execution_count": 7,
   "id": "69a4d4bf",
   "metadata": {},
   "outputs": [],
   "source": [
    "df['Milliseconds'] = df['Timing'].dt.microsecond // 1000"
   ]
  },
  {
   "cell_type": "code",
   "execution_count": 8,
   "id": "a5e46ca4",
   "metadata": {},
   "outputs": [],
   "source": [
    "df['Time Diff'] = df['Milliseconds'].diff()"
   ]
  },
  {
   "cell_type": "markdown",
   "id": "fffbd592",
   "metadata": {},
   "source": [
    "# Data Validation"
   ]
  },
  {
   "cell_type": "code",
   "execution_count": 9,
   "id": "1a7bb154",
   "metadata": {},
   "outputs": [
    {
     "data": {
      "text/plain": [
       " 10.0     19899\n",
       "-990.0      200\n",
       "Name: Milliseconds, dtype: int64"
      ]
     },
     "execution_count": 9,
     "metadata": {},
     "output_type": "execute_result"
    }
   ],
   "source": [
    "# pd.unique(df['Milliseconds'].diff())\n",
    "\n",
    "df['Milliseconds'].diff().value_counts()"
   ]
  },
  {
   "cell_type": "code",
   "execution_count": 10,
   "id": "dccd9cd5",
   "metadata": {},
   "outputs": [
    {
     "data": {
      "text/plain": [
       "20100"
      ]
     },
     "execution_count": 10,
     "metadata": {},
     "output_type": "execute_result"
    }
   ],
   "source": [
    "df['Milliseconds'].count()"
   ]
  },
  {
   "cell_type": "code",
   "execution_count": 11,
   "id": "9c5ed187",
   "metadata": {},
   "outputs": [
    {
     "data": {
      "text/plain": [
       "{100}"
      ]
     },
     "execution_count": 11,
     "metadata": {},
     "output_type": "execute_result"
    }
   ],
   "source": [
    "# df[df['Time Diff']<=0].groupby('Overall class ')['Overall class '].count()\n",
    "\n",
    "idx_lst = list(df[df['Time Diff']<=0].index)\n",
    "\n",
    "set([t - s for s, t in zip(idx_lst, idx_lst[1:])])"
   ]
  },
  {
   "cell_type": "code",
   "execution_count": 12,
   "id": "ca12940a",
   "metadata": {},
   "outputs": [
    {
     "data": {
      "text/plain": [
       "array([  nan,   10., -990.])"
      ]
     },
     "execution_count": 12,
     "metadata": {},
     "output_type": "execute_result"
    }
   ],
   "source": [
    "# df['Milliseconds']\n",
    "\n",
    "# set(df['Milliseconds'].diff())\n",
    "\n",
    "df['Time Diff'].unique()"
   ]
  },
  {
   "cell_type": "code",
   "execution_count": 14,
   "id": "63aff473",
   "metadata": {},
   "outputs": [
    {
     "data": {
      "text/plain": [
       "200"
      ]
     },
     "execution_count": 14,
     "metadata": {},
     "output_type": "execute_result"
    }
   ],
   "source": [
    "# df[df['Milliseconds'].diff().isna()] # First Row \n",
    "\n",
    "df[df['Milliseconds'].diff()<0] # Changing from 990 to 0 \n",
    "\n",
    "df[df['Milliseconds'].diff()<0]['Timing'].count()"
   ]
  },
  {
   "cell_type": "code",
   "execution_count": 19,
   "id": "32de98b6",
   "metadata": {},
   "outputs": [],
   "source": [
    "# df['Time Diff (s)'].unique()\n",
    "# df[df['Time Diff (s)']==0.01]\n",
    "# df[df['Time Diff (s)']==0.]\n",
    "\n",
    "# If the previous row has the same overall class then add to the sum or \n",
    "\n",
    "# Simply set the Time Diff = 0.01 where the Time Diff = -.099"
   ]
  },
  {
   "cell_type": "code",
   "execution_count": 18,
   "id": "38b01721",
   "metadata": {},
   "outputs": [
    {
     "data": {
      "text/plain": [
       "array([nan, 10.])"
      ]
     },
     "execution_count": 18,
     "metadata": {},
     "output_type": "execute_result"
    }
   ],
   "source": [
    "df.loc[df['Time Diff']<0,'Time Diff'] = 10.0\n",
    "df['Time Diff'].unique()"
   ]
  },
  {
   "cell_type": "code",
   "execution_count": 20,
   "id": "8ad0554b",
   "metadata": {},
   "outputs": [],
   "source": [
    "df['Time Diff (s)'] = df['Time Diff']/1000"
   ]
  },
  {
   "cell_type": "code",
   "execution_count": 21,
   "id": "41d3d72a",
   "metadata": {},
   "outputs": [
    {
     "data": {
      "text/plain": [
       "array([ nan, 0.01])"
      ]
     },
     "execution_count": 21,
     "metadata": {},
     "output_type": "execute_result"
    }
   ],
   "source": [
    "df['Time Diff (s)'].unique()"
   ]
  },
  {
   "cell_type": "markdown",
   "id": "9f6f4b06",
   "metadata": {},
   "source": [
    "df.loc[df['Time Diff (s)'].isna(),'Time Diff (s)'] = 0.01\n",
    "df['Time Diff (s)'].unique()"
   ]
  },
  {
   "cell_type": "markdown",
   "id": "271fb053",
   "metadata": {},
   "source": [
    "#### OLD DATA \n",
    "\n",
    "left side : 23.06\n",
    "prone : 20.82\n",
    "prone supported : 62.59\n",
    "reclined : 53.71\n",
    "right side : 2.08\n",
    "supine : 19.82\n",
    "upright : 1.99\n",
    "\n",
    "Old Total 184.07000000000002"
   ]
  },
  {
   "cell_type": "code",
   "execution_count": 22,
   "id": "638577b6",
   "metadata": {},
   "outputs": [
    {
     "name": "stdout",
     "output_type": "stream",
     "text": [
      "    Overall class   Time Diff (s)\n",
      "0        left side          23.28\n",
      "1            prone          21.04\n",
      "2  prone supported          63.23\n",
      "3         reclined          54.24\n",
      "4       right side           2.11\n",
      "5           supine          20.02\n",
      "6          upright           2.01\n"
     ]
    }
   ],
   "source": [
    "# df.groupby('Overall class ')['Time Diff'].sum()\n",
    "\n",
    "df['Time Diff (s)'] = df['Time Diff (s)'].fillna(0).clip(lower=0.01)\n",
    "\n",
    "grouped_df = df.groupby('Overall class ')['Time Diff (s)'].sum().reset_index()\n",
    "\n",
    "print(grouped_df)"
   ]
  },
  {
   "cell_type": "code",
   "execution_count": 23,
   "id": "841f1c0d",
   "metadata": {},
   "outputs": [
    {
     "data": {
      "text/plain": [
       "185.93000000000004"
      ]
     },
     "execution_count": 23,
     "metadata": {},
     "output_type": "execute_result"
    }
   ],
   "source": [
    "grouped_df['Time Diff (s)'].sum()"
   ]
  },
  {
   "cell_type": "code",
   "execution_count": 24,
   "id": "da0e386e",
   "metadata": {},
   "outputs": [
    {
     "data": {
      "image/png": "[encoded data removed]",
      "text/plain": [
       "<Figure size 640x480 with 1 Axes>"
      ]
     },
     "metadata": {},
     "output_type": "display_data"
    }
   ],
   "source": [
    "ax = plt.bar(data = grouped_df, x = 'Overall class ',height = 'Time Diff (s)')\n",
    "\n",
    "plt.xlabel('Overall Class')\n",
    "plt.ylabel('Time Elapsed (s)')\n",
    "\n",
    "sns.despine(bottom = True, left = True)\n",
    "plt.xticks(rotation=45)  # Rotate x-axis labels by 45 degrees\n",
    "\n",
    "plt.show()"
   ]
  },
  {
   "cell_type": "code",
   "execution_count": null,
   "id": "4235ab2d",
   "metadata": {},
   "outputs": [],
   "source": [
    "# df.groupby('Overall class ')['Milliseconds'].diff().reset_index()"
   ]
  },
  {
   "cell_type": "code",
   "execution_count": 25,
   "id": "701a845b",
   "metadata": {},
   "outputs": [
    {
     "data": {
      "text/plain": [
       "Body Rotation\n",
       "prone-sit    1.507\n",
       "Name: Timing, dtype: float64"
      ]
     },
     "execution_count": 25,
     "metadata": {},
     "output_type": "execute_result"
    }
   ],
   "source": [
    "df[df['Overall class '].isna()].groupby('Body Rotation')['Timing'].count()/1000 # Missing Seconds"
   ]
  },
  {
   "cell_type": "code",
   "execution_count": 26,
   "id": "05c05e53",
   "metadata": {},
   "outputs": [
    {
     "name": "stdout",
     "output_type": "stream",
     "text": [
      "200.99\n"
     ]
    }
   ],
   "source": [
    "td = df['Timing'].max() - df['Timing'].min()\n",
    "\n",
    "secs = td.total_seconds()\n",
    "\n",
    "print(secs)"
   ]
  },
  {
   "cell_type": "code",
   "execution_count": 27,
   "id": "c64f47ea",
   "metadata": {},
   "outputs": [],
   "source": [
    "df_check = df[['Timing','Body Rotation','Overall class ']]"
   ]
  },
  {
   "cell_type": "code",
   "execution_count": 28,
   "id": "251abc47",
   "metadata": {},
   "outputs": [
    {
     "name": "stderr",
     "output_type": "stream",
     "text": [
      "C:\\Users\\saira\\AppData\\Local\\Temp\\ipykernel_7668\\2484361359.py:7: SettingWithCopyWarning: \n",
      "A value is trying to be set on a copy of a slice from a DataFrame.\n",
      "Try using .loc[row_indexer,col_indexer] = value instead\n",
      "\n",
      "See the caveats in the documentation: https://pandas.pydata.org/pandas-docs/stable/user_guide/indexing.html#returning-a-view-versus-a-copy\n",
      "  df_check['RN'] = df_check.sort_values('Timing').groupby(['Overall class ']).cumcount()+1\n"
     ]
    }
   ],
   "source": [
    "# df_check.groupby('Overall class ')['Timing'].cumsum()\n",
    "\n",
    "# df['Overall '].sort_values(by='date').cumsum()\n",
    "\n",
    "# df.sort_values('Timing').groupby(['Body Rotation']).cumcount()+1\n",
    "\n",
    "df_check['RN'] = df_check.sort_values('Timing').groupby(['Overall class ']).cumcount()+1\n",
    "\n",
    "# df_check[df_check['RN'] < df_check['RN'].shift(1)]['Timing'].count()"
   ]
  },
  {
   "cell_type": "code",
   "execution_count": 29,
   "id": "72945b03",
   "metadata": {},
   "outputs": [
    {
     "data": {
      "text/plain": [
       "Overall class \n",
       "left side           31\n",
       "prone              123\n",
       "prone supported     17\n",
       "reclined             9\n",
       "right side          11\n",
       "supine              20\n",
       "upright             20\n",
       "Name: Overall class , dtype: int64"
      ]
     },
     "execution_count": 29,
     "metadata": {},
     "output_type": "execute_result"
    }
   ],
   "source": [
    "df_check[df_check['RN'] < df_check['RN'].shift(1)].groupby('Overall class ')['Overall class '].count()"
   ]
  },
  {
   "cell_type": "code",
   "execution_count": 30,
   "id": "de228751",
   "metadata": {},
   "outputs": [
    {
     "name": "stdout",
     "output_type": "stream",
     "text": [
      "Missing Count 1507\n"
     ]
    }
   ],
   "source": [
    "# df.count()\n",
    "\n",
    "# Body Rotation --> 20100\n",
    "\n",
    "# Prone Sit 8628 + Supine-Recline 9965 --> 18593 (Overall Class)\n",
    "\n",
    "# Shift in Class --> 200\n",
    "\n",
    "# Missing --> 1507\n",
    "\n",
    "print(\"Missing Count\",20100-18593)\n",
    "\n",
    "# df.describe()\n",
    "\n",
    "# df"
   ]
  },
  {
   "cell_type": "code",
   "execution_count": 31,
   "id": "825a04ea",
   "metadata": {},
   "outputs": [
    {
     "data": {
      "text/plain": [
       "Body Rotation\n",
       "prone-sit         10135\n",
       "supine-recline     9965\n",
       "Name: Body Rotation, dtype: int64"
      ]
     },
     "execution_count": 31,
     "metadata": {},
     "output_type": "execute_result"
    }
   ],
   "source": [
    "df.groupby('Body Rotation')['Body Rotation'].count()"
   ]
  },
  {
   "cell_type": "code",
   "execution_count": 32,
   "id": "1c847938",
   "metadata": {},
   "outputs": [
    {
     "data": {
      "text/html": [
       "<div>\n",
       "<style scoped>\n",
       "    .dataframe tbody tr th:only-of-type {\n",
       "        vertical-align: middle;\n",
       "    }\n",
       "\n",
       "    .dataframe tbody tr th {\n",
       "        vertical-align: top;\n",
       "    }\n",
       "\n",
       "    .dataframe thead th {\n",
       "        text-align: right;\n",
       "    }\n",
       "</style>\n",
       "<table border=\"1\" class=\"dataframe\">\n",
       "  <thead>\n",
       "    <tr style=\"text-align: right;\">\n",
       "      <th></th>\n",
       "      <th>Timing</th>\n",
       "      <th>Unnamed: 1</th>\n",
       "      <th>Unnamed: 2</th>\n",
       "      <th>Unnamed: 3</th>\n",
       "      <th>Unnamed: 4</th>\n",
       "      <th>Unnamed: 6</th>\n",
       "      <th>360 angle</th>\n",
       "      <th>Up/down angle</th>\n",
       "      <th>Observed position</th>\n",
       "      <th>Body Rotation</th>\n",
       "      <th>Prone-sit class</th>\n",
       "      <th>Supine-recline class</th>\n",
       "      <th>Overall class</th>\n",
       "      <th>Milliseconds</th>\n",
       "      <th>Time Diff</th>\n",
       "      <th>Time Diff (s)</th>\n",
       "    </tr>\n",
       "  </thead>\n",
       "  <tbody>\n",
       "    <tr>\n",
       "      <th>76</th>\n",
       "      <td>2024-08-01 11:50:17.760</td>\n",
       "      <td>-0.0239</td>\n",
       "      <td>0.0270</td>\n",
       "      <td>-0.0078</td>\n",
       "      <td>130</td>\n",
       "      <td>30.5</td>\n",
       "      <td>108.074603</td>\n",
       "      <td>47.066230</td>\n",
       "      <td>NaN</td>\n",
       "      <td>prone-sit</td>\n",
       "      <td>prone</td>\n",
       "      <td>NaN</td>\n",
       "      <td>prone</td>\n",
       "      <td>760</td>\n",
       "      <td>10.0</td>\n",
       "      <td>0.01</td>\n",
       "    </tr>\n",
       "    <tr>\n",
       "      <th>2849</th>\n",
       "      <td>2024-08-01 11:50:45.490</td>\n",
       "      <td>-2.1919</td>\n",
       "      <td>2.1906</td>\n",
       "      <td>-0.0039</td>\n",
       "      <td>297</td>\n",
       "      <td>29.5</td>\n",
       "      <td>90.101945</td>\n",
       "      <td>45.005775</td>\n",
       "      <td>NaN</td>\n",
       "      <td>prone-sit</td>\n",
       "      <td>prone</td>\n",
       "      <td>NaN</td>\n",
       "      <td>prone</td>\n",
       "      <td>490</td>\n",
       "      <td>10.0</td>\n",
       "      <td>0.01</td>\n",
       "    </tr>\n",
       "    <tr>\n",
       "      <th>6238</th>\n",
       "      <td>2024-08-01 11:51:19.380</td>\n",
       "      <td>-0.5619</td>\n",
       "      <td>0.3389</td>\n",
       "      <td>-0.6691</td>\n",
       "      <td>111</td>\n",
       "      <td>29.0</td>\n",
       "      <td>139.976971</td>\n",
       "      <td>21.210611</td>\n",
       "      <td>NaN</td>\n",
       "      <td>prone-sit</td>\n",
       "      <td>prone</td>\n",
       "      <td>NaN</td>\n",
       "      <td>prone</td>\n",
       "      <td>380</td>\n",
       "      <td>10.0</td>\n",
       "      <td>0.01</td>\n",
       "    </tr>\n",
       "    <tr>\n",
       "      <th>6239</th>\n",
       "      <td>2024-08-01 11:51:19.390</td>\n",
       "      <td>-0.5780</td>\n",
       "      <td>0.3189</td>\n",
       "      <td>-0.6612</td>\n",
       "      <td>111</td>\n",
       "      <td>29.0</td>\n",
       "      <td>138.841079</td>\n",
       "      <td>19.967149</td>\n",
       "      <td>NaN</td>\n",
       "      <td>prone-sit</td>\n",
       "      <td>prone</td>\n",
       "      <td>NaN</td>\n",
       "      <td>prone</td>\n",
       "      <td>390</td>\n",
       "      <td>10.0</td>\n",
       "      <td>0.01</td>\n",
       "    </tr>\n",
       "    <tr>\n",
       "      <th>6240</th>\n",
       "      <td>2024-08-01 11:51:19.400</td>\n",
       "      <td>-0.6181</td>\n",
       "      <td>0.3189</td>\n",
       "      <td>-0.6691</td>\n",
       "      <td>111</td>\n",
       "      <td>29.0</td>\n",
       "      <td>137.268923</td>\n",
       "      <td>19.304557</td>\n",
       "      <td>NaN</td>\n",
       "      <td>prone-sit</td>\n",
       "      <td>prone</td>\n",
       "      <td>NaN</td>\n",
       "      <td>prone</td>\n",
       "      <td>400</td>\n",
       "      <td>10.0</td>\n",
       "      <td>0.01</td>\n",
       "    </tr>\n",
       "    <tr>\n",
       "      <th>...</th>\n",
       "      <td>...</td>\n",
       "      <td>...</td>\n",
       "      <td>...</td>\n",
       "      <td>...</td>\n",
       "      <td>...</td>\n",
       "      <td>...</td>\n",
       "      <td>...</td>\n",
       "      <td>...</td>\n",
       "      <td>...</td>\n",
       "      <td>...</td>\n",
       "      <td>...</td>\n",
       "      <td>...</td>\n",
       "      <td>...</td>\n",
       "      <td>...</td>\n",
       "      <td>...</td>\n",
       "      <td>...</td>\n",
       "    </tr>\n",
       "    <tr>\n",
       "      <th>16899</th>\n",
       "      <td>2024-08-01 11:53:05.990</td>\n",
       "      <td>-0.1685</td>\n",
       "      <td>0.0390</td>\n",
       "      <td>0.0397</td>\n",
       "      <td>726</td>\n",
       "      <td>28.5</td>\n",
       "      <td>76.742424</td>\n",
       "      <td>12.702392</td>\n",
       "      <td>NaN</td>\n",
       "      <td>prone-sit</td>\n",
       "      <td>prone</td>\n",
       "      <td>NaN</td>\n",
       "      <td>prone</td>\n",
       "      <td>990</td>\n",
       "      <td>10.0</td>\n",
       "      <td>0.01</td>\n",
       "    </tr>\n",
       "    <tr>\n",
       "      <th>16900</th>\n",
       "      <td>2024-08-01 11:53:06.000</td>\n",
       "      <td>-0.2046</td>\n",
       "      <td>0.1149</td>\n",
       "      <td>0.0991</td>\n",
       "      <td>726</td>\n",
       "      <td>28.5</td>\n",
       "      <td>64.156321</td>\n",
       "      <td>26.826444</td>\n",
       "      <td>NaN</td>\n",
       "      <td>prone-sit</td>\n",
       "      <td>prone</td>\n",
       "      <td>NaN</td>\n",
       "      <td>prone</td>\n",
       "      <td>0</td>\n",
       "      <td>10.0</td>\n",
       "      <td>0.01</td>\n",
       "    </tr>\n",
       "    <tr>\n",
       "      <th>16901</th>\n",
       "      <td>2024-08-01 11:53:06.010</td>\n",
       "      <td>-0.1323</td>\n",
       "      <td>0.1629</td>\n",
       "      <td>0.0555</td>\n",
       "      <td>726</td>\n",
       "      <td>28.5</td>\n",
       "      <td>67.241896</td>\n",
       "      <td>48.653576</td>\n",
       "      <td>NaN</td>\n",
       "      <td>prone-sit</td>\n",
       "      <td>prone</td>\n",
       "      <td>NaN</td>\n",
       "      <td>prone</td>\n",
       "      <td>10</td>\n",
       "      <td>10.0</td>\n",
       "      <td>0.01</td>\n",
       "    </tr>\n",
       "    <tr>\n",
       "      <th>16902</th>\n",
       "      <td>2024-08-01 11:53:06.020</td>\n",
       "      <td>-0.0721</td>\n",
       "      <td>0.1149</td>\n",
       "      <td>0.0159</td>\n",
       "      <td>726</td>\n",
       "      <td>28.5</td>\n",
       "      <td>77.563781</td>\n",
       "      <td>57.305085</td>\n",
       "      <td>NaN</td>\n",
       "      <td>prone-sit</td>\n",
       "      <td>prone</td>\n",
       "      <td>NaN</td>\n",
       "      <td>prone</td>\n",
       "      <td>20</td>\n",
       "      <td>10.0</td>\n",
       "      <td>0.01</td>\n",
       "    </tr>\n",
       "    <tr>\n",
       "      <th>16903</th>\n",
       "      <td>2024-08-01 11:53:06.030</td>\n",
       "      <td>0.0002</td>\n",
       "      <td>0.0829</td>\n",
       "      <td>0.0159</td>\n",
       "      <td>726</td>\n",
       "      <td>28.5</td>\n",
       "      <td>359.279336</td>\n",
       "      <td>79.181977</td>\n",
       "      <td>NaN</td>\n",
       "      <td>prone-sit</td>\n",
       "      <td>prone</td>\n",
       "      <td>NaN</td>\n",
       "      <td>prone</td>\n",
       "      <td>30</td>\n",
       "      <td>10.0</td>\n",
       "      <td>0.01</td>\n",
       "    </tr>\n",
       "  </tbody>\n",
       "</table>\n",
       "<p>2104 rows × 16 columns</p>\n",
       "</div>"
      ],
      "text/plain": [
       "                       Timing  Unnamed: 1  Unnamed: 2  Unnamed: 3  Unnamed: 4  \\\n",
       "76    2024-08-01 11:50:17.760     -0.0239      0.0270     -0.0078         130   \n",
       "2849  2024-08-01 11:50:45.490     -2.1919      2.1906     -0.0039         297   \n",
       "6238  2024-08-01 11:51:19.380     -0.5619      0.3389     -0.6691         111   \n",
       "6239  2024-08-01 11:51:19.390     -0.5780      0.3189     -0.6612         111   \n",
       "6240  2024-08-01 11:51:19.400     -0.6181      0.3189     -0.6691         111   \n",
       "...                       ...         ...         ...         ...         ...   \n",
       "16899 2024-08-01 11:53:05.990     -0.1685      0.0390      0.0397         726   \n",
       "16900 2024-08-01 11:53:06.000     -0.2046      0.1149      0.0991         726   \n",
       "16901 2024-08-01 11:53:06.010     -0.1323      0.1629      0.0555         726   \n",
       "16902 2024-08-01 11:53:06.020     -0.0721      0.1149      0.0159         726   \n",
       "16903 2024-08-01 11:53:06.030      0.0002      0.0829      0.0159         726   \n",
       "\n",
       "       Unnamed: 6  360 angle   Up/down angle  Observed position Body Rotation  \\\n",
       "76           30.5  108.074603      47.066230                NaN     prone-sit   \n",
       "2849         29.5   90.101945      45.005775                NaN     prone-sit   \n",
       "6238         29.0  139.976971      21.210611                NaN     prone-sit   \n",
       "6239         29.0  138.841079      19.967149                NaN     prone-sit   \n",
       "6240         29.0  137.268923      19.304557                NaN     prone-sit   \n",
       "...           ...         ...            ...                ...           ...   \n",
       "16899        28.5   76.742424      12.702392                NaN     prone-sit   \n",
       "16900        28.5   64.156321      26.826444                NaN     prone-sit   \n",
       "16901        28.5   67.241896      48.653576                NaN     prone-sit   \n",
       "16902        28.5   77.563781      57.305085                NaN     prone-sit   \n",
       "16903        28.5  359.279336      79.181977                NaN     prone-sit   \n",
       "\n",
       "      Prone-sit class Supine-recline class  Overall class   Milliseconds  \\\n",
       "76              prone                   NaN          prone           760   \n",
       "2849            prone                   NaN          prone           490   \n",
       "6238            prone                   NaN          prone           380   \n",
       "6239            prone                   NaN          prone           390   \n",
       "6240            prone                   NaN          prone           400   \n",
       "...               ...                   ...            ...           ...   \n",
       "16899           prone                   NaN          prone           990   \n",
       "16900           prone                   NaN          prone             0   \n",
       "16901           prone                   NaN          prone            10   \n",
       "16902           prone                   NaN          prone            20   \n",
       "16903           prone                   NaN          prone            30   \n",
       "\n",
       "       Time Diff  Time Diff (s)  \n",
       "76          10.0           0.01  \n",
       "2849        10.0           0.01  \n",
       "6238        10.0           0.01  \n",
       "6239        10.0           0.01  \n",
       "6240        10.0           0.01  \n",
       "...          ...            ...  \n",
       "16899       10.0           0.01  \n",
       "16900       10.0           0.01  \n",
       "16901       10.0           0.01  \n",
       "16902       10.0           0.01  \n",
       "16903       10.0           0.01  \n",
       "\n",
       "[2104 rows x 16 columns]"
      ]
     },
     "execution_count": 32,
     "metadata": {},
     "output_type": "execute_result"
    }
   ],
   "source": [
    "df[(df['Body Rotation'] == 'prone-sit') & (df['Overall class ']=='prone')]"
   ]
  },
  {
   "cell_type": "code",
   "execution_count": 33,
   "id": "1617413a",
   "metadata": {},
   "outputs": [
    {
     "data": {
      "text/plain": [
       "prone supported    6323\n",
       "prone              2104\n",
       "upright             201\n",
       "Name: Overall class , dtype: int64"
      ]
     },
     "execution_count": 33,
     "metadata": {},
     "output_type": "execute_result"
    }
   ],
   "source": [
    "df[df['Body Rotation'] == 'prone-sit']['Overall class '].value_counts()"
   ]
  },
  {
   "cell_type": "code",
   "execution_count": 34,
   "id": "2bf8d52d",
   "metadata": {},
   "outputs": [
    {
     "data": {
      "text/plain": [
       "Overall class \n",
       "left side          2328\n",
       "prone              2104\n",
       "prone supported    6323\n",
       "reclined           5424\n",
       "right side          211\n",
       "supine             2002\n",
       "upright             201\n",
       "Name: Overall class , dtype: int64"
      ]
     },
     "execution_count": 34,
     "metadata": {},
     "output_type": "execute_result"
    }
   ],
   "source": [
    "df.groupby('Overall class ')['Overall class '].count()"
   ]
  },
  {
   "cell_type": "code",
   "execution_count": 35,
   "id": "70f76355",
   "metadata": {},
   "outputs": [],
   "source": [
    "gp_df = df.groupby(['Body Rotation','Overall class '])['Timing'].count().reset_index().rename(columns = {'Timing':'Row Count'}).sort_values(by = 'Row Count',ascending = False)"
   ]
  },
  {
   "cell_type": "code",
   "execution_count": 37,
   "id": "4ed207ea",
   "metadata": {},
   "outputs": [
    {
     "data": {
      "text/plain": [
       "Body Rotation   Overall class  \n",
       "prone-sit       prone              2104\n",
       "                prone supported    6323\n",
       "                upright             201\n",
       "supine-recline  left side          2328\n",
       "                reclined           5424\n",
       "                right side          211\n",
       "                supine             2002\n",
       "Name: Timing, dtype: int64"
      ]
     },
     "execution_count": 37,
     "metadata": {},
     "output_type": "execute_result"
    }
   ],
   "source": [
    "# df['Body Rotation'].isna().sum()\n",
    "\n",
    "# df['Body Rotation'].unique() --> supine-recline & prone-sit Total Count = 20100\n",
    " \n",
    "# df.groupby('Body Rotation')['Timing'].count()\n",
    "\n",
    "df.groupby(['Body Rotation','Overall class '])['Timing'].count()"
   ]
  },
  {
   "cell_type": "code",
   "execution_count": 36,
   "id": "63b31b04",
   "metadata": {},
   "outputs": [
    {
     "data": {
      "text/html": [
       "<div>\n",
       "<style scoped>\n",
       "    .dataframe tbody tr th:only-of-type {\n",
       "        vertical-align: middle;\n",
       "    }\n",
       "\n",
       "    .dataframe tbody tr th {\n",
       "        vertical-align: top;\n",
       "    }\n",
       "\n",
       "    .dataframe thead th {\n",
       "        text-align: right;\n",
       "    }\n",
       "</style>\n",
       "<table border=\"1\" class=\"dataframe\">\n",
       "  <thead>\n",
       "    <tr style=\"text-align: right;\">\n",
       "      <th></th>\n",
       "      <th>Timing</th>\n",
       "      <th>Unnamed: 1</th>\n",
       "      <th>Unnamed: 2</th>\n",
       "      <th>Unnamed: 3</th>\n",
       "      <th>Unnamed: 4</th>\n",
       "      <th>Unnamed: 6</th>\n",
       "      <th>360 angle</th>\n",
       "      <th>Up/down angle</th>\n",
       "      <th>Observed position</th>\n",
       "      <th>Body Rotation</th>\n",
       "      <th>Prone-sit class</th>\n",
       "      <th>Supine-recline class</th>\n",
       "      <th>Milliseconds</th>\n",
       "      <th>Time Diff</th>\n",
       "      <th>Time Diff (s)</th>\n",
       "    </tr>\n",
       "    <tr>\n",
       "      <th>Overall class</th>\n",
       "      <th></th>\n",
       "      <th></th>\n",
       "      <th></th>\n",
       "      <th></th>\n",
       "      <th></th>\n",
       "      <th></th>\n",
       "      <th></th>\n",
       "      <th></th>\n",
       "      <th></th>\n",
       "      <th></th>\n",
       "      <th></th>\n",
       "      <th></th>\n",
       "      <th></th>\n",
       "      <th></th>\n",
       "      <th></th>\n",
       "    </tr>\n",
       "  </thead>\n",
       "  <tbody>\n",
       "    <tr>\n",
       "      <th>left side</th>\n",
       "      <td>0</td>\n",
       "      <td>0</td>\n",
       "      <td>0</td>\n",
       "      <td>0</td>\n",
       "      <td>0</td>\n",
       "      <td>0</td>\n",
       "      <td>0</td>\n",
       "      <td>0</td>\n",
       "      <td>2328</td>\n",
       "      <td>0</td>\n",
       "      <td>2328</td>\n",
       "      <td>0</td>\n",
       "      <td>0</td>\n",
       "      <td>1</td>\n",
       "      <td>0</td>\n",
       "    </tr>\n",
       "    <tr>\n",
       "      <th>prone</th>\n",
       "      <td>0</td>\n",
       "      <td>0</td>\n",
       "      <td>0</td>\n",
       "      <td>0</td>\n",
       "      <td>0</td>\n",
       "      <td>0</td>\n",
       "      <td>0</td>\n",
       "      <td>0</td>\n",
       "      <td>2104</td>\n",
       "      <td>0</td>\n",
       "      <td>0</td>\n",
       "      <td>2104</td>\n",
       "      <td>0</td>\n",
       "      <td>0</td>\n",
       "      <td>0</td>\n",
       "    </tr>\n",
       "    <tr>\n",
       "      <th>prone supported</th>\n",
       "      <td>0</td>\n",
       "      <td>0</td>\n",
       "      <td>0</td>\n",
       "      <td>0</td>\n",
       "      <td>0</td>\n",
       "      <td>0</td>\n",
       "      <td>0</td>\n",
       "      <td>0</td>\n",
       "      <td>6323</td>\n",
       "      <td>0</td>\n",
       "      <td>0</td>\n",
       "      <td>6323</td>\n",
       "      <td>0</td>\n",
       "      <td>0</td>\n",
       "      <td>0</td>\n",
       "    </tr>\n",
       "    <tr>\n",
       "      <th>reclined</th>\n",
       "      <td>0</td>\n",
       "      <td>0</td>\n",
       "      <td>0</td>\n",
       "      <td>0</td>\n",
       "      <td>0</td>\n",
       "      <td>0</td>\n",
       "      <td>0</td>\n",
       "      <td>0</td>\n",
       "      <td>5424</td>\n",
       "      <td>0</td>\n",
       "      <td>5424</td>\n",
       "      <td>0</td>\n",
       "      <td>0</td>\n",
       "      <td>0</td>\n",
       "      <td>0</td>\n",
       "    </tr>\n",
       "    <tr>\n",
       "      <th>right side</th>\n",
       "      <td>0</td>\n",
       "      <td>0</td>\n",
       "      <td>0</td>\n",
       "      <td>0</td>\n",
       "      <td>0</td>\n",
       "      <td>0</td>\n",
       "      <td>0</td>\n",
       "      <td>0</td>\n",
       "      <td>211</td>\n",
       "      <td>0</td>\n",
       "      <td>211</td>\n",
       "      <td>0</td>\n",
       "      <td>0</td>\n",
       "      <td>0</td>\n",
       "      <td>0</td>\n",
       "    </tr>\n",
       "    <tr>\n",
       "      <th>supine</th>\n",
       "      <td>0</td>\n",
       "      <td>0</td>\n",
       "      <td>0</td>\n",
       "      <td>0</td>\n",
       "      <td>0</td>\n",
       "      <td>0</td>\n",
       "      <td>0</td>\n",
       "      <td>0</td>\n",
       "      <td>2002</td>\n",
       "      <td>0</td>\n",
       "      <td>2002</td>\n",
       "      <td>0</td>\n",
       "      <td>0</td>\n",
       "      <td>0</td>\n",
       "      <td>0</td>\n",
       "    </tr>\n",
       "    <tr>\n",
       "      <th>upright</th>\n",
       "      <td>0</td>\n",
       "      <td>0</td>\n",
       "      <td>0</td>\n",
       "      <td>0</td>\n",
       "      <td>0</td>\n",
       "      <td>0</td>\n",
       "      <td>0</td>\n",
       "      <td>0</td>\n",
       "      <td>201</td>\n",
       "      <td>0</td>\n",
       "      <td>0</td>\n",
       "      <td>201</td>\n",
       "      <td>0</td>\n",
       "      <td>0</td>\n",
       "      <td>0</td>\n",
       "    </tr>\n",
       "  </tbody>\n",
       "</table>\n",
       "</div>"
      ],
      "text/plain": [
       "                 Timing  Unnamed: 1  Unnamed: 2  Unnamed: 3  Unnamed: 4  \\\n",
       "Overall class                                                             \n",
       "left side             0           0           0           0           0   \n",
       "prone                 0           0           0           0           0   \n",
       "prone supported       0           0           0           0           0   \n",
       "reclined              0           0           0           0           0   \n",
       "right side            0           0           0           0           0   \n",
       "supine                0           0           0           0           0   \n",
       "upright               0           0           0           0           0   \n",
       "\n",
       "                 Unnamed: 6  360 angle   Up/down angle  Observed position  \\\n",
       "Overall class                                                               \n",
       "left side                 0           0              0               2328   \n",
       "prone                     0           0              0               2104   \n",
       "prone supported           0           0              0               6323   \n",
       "reclined                  0           0              0               5424   \n",
       "right side                0           0              0                211   \n",
       "supine                    0           0              0               2002   \n",
       "upright                   0           0              0                201   \n",
       "\n",
       "                 Body Rotation  Prone-sit class  Supine-recline class   \\\n",
       "Overall class                                                            \n",
       "left side                    0             2328                      0   \n",
       "prone                        0                0                   2104   \n",
       "prone supported              0                0                   6323   \n",
       "reclined                     0             5424                      0   \n",
       "right side                   0              211                      0   \n",
       "supine                       0             2002                      0   \n",
       "upright                      0                0                    201   \n",
       "\n",
       "                 Milliseconds  Time Diff  Time Diff (s)  \n",
       "Overall class                                            \n",
       "left side                   0          1              0  \n",
       "prone                       0          0              0  \n",
       "prone supported             0          0              0  \n",
       "reclined                    0          0              0  \n",
       "right side                  0          0              0  \n",
       "supine                      0          0              0  \n",
       "upright                     0          0              0  "
      ]
     },
     "execution_count": 36,
     "metadata": {},
     "output_type": "execute_result"
    }
   ],
   "source": [
    "df.set_index('Overall class ').isna().groupby(level=0).sum()"
   ]
  },
  {
   "cell_type": "code",
   "execution_count": 38,
   "id": "27bb87e3",
   "metadata": {},
   "outputs": [
    {
     "data": {
      "text/html": [
       "<div>\n",
       "<style scoped>\n",
       "    .dataframe tbody tr th:only-of-type {\n",
       "        vertical-align: middle;\n",
       "    }\n",
       "\n",
       "    .dataframe tbody tr th {\n",
       "        vertical-align: top;\n",
       "    }\n",
       "\n",
       "    .dataframe thead th {\n",
       "        text-align: right;\n",
       "    }\n",
       "</style>\n",
       "<table border=\"1\" class=\"dataframe\">\n",
       "  <thead>\n",
       "    <tr style=\"text-align: right;\">\n",
       "      <th></th>\n",
       "      <th>Body Rotation</th>\n",
       "      <th>Overall class</th>\n",
       "      <th>Row Count</th>\n",
       "    </tr>\n",
       "  </thead>\n",
       "  <tbody>\n",
       "    <tr>\n",
       "      <th>1</th>\n",
       "      <td>prone-sit</td>\n",
       "      <td>prone supported</td>\n",
       "      <td>6323</td>\n",
       "    </tr>\n",
       "    <tr>\n",
       "      <th>0</th>\n",
       "      <td>prone-sit</td>\n",
       "      <td>prone</td>\n",
       "      <td>2104</td>\n",
       "    </tr>\n",
       "    <tr>\n",
       "      <th>2</th>\n",
       "      <td>prone-sit</td>\n",
       "      <td>upright</td>\n",
       "      <td>201</td>\n",
       "    </tr>\n",
       "    <tr>\n",
       "      <th>4</th>\n",
       "      <td>supine-recline</td>\n",
       "      <td>reclined</td>\n",
       "      <td>5424</td>\n",
       "    </tr>\n",
       "    <tr>\n",
       "      <th>3</th>\n",
       "      <td>supine-recline</td>\n",
       "      <td>left side</td>\n",
       "      <td>2328</td>\n",
       "    </tr>\n",
       "    <tr>\n",
       "      <th>6</th>\n",
       "      <td>supine-recline</td>\n",
       "      <td>supine</td>\n",
       "      <td>2002</td>\n",
       "    </tr>\n",
       "    <tr>\n",
       "      <th>5</th>\n",
       "      <td>supine-recline</td>\n",
       "      <td>right side</td>\n",
       "      <td>211</td>\n",
       "    </tr>\n",
       "  </tbody>\n",
       "</table>\n",
       "</div>"
      ],
      "text/plain": [
       "    Body Rotation   Overall class   Row Count\n",
       "1       prone-sit  prone supported       6323\n",
       "0       prone-sit            prone       2104\n",
       "2       prone-sit          upright        201\n",
       "4  supine-recline         reclined       5424\n",
       "3  supine-recline        left side       2328\n",
       "6  supine-recline           supine       2002\n",
       "5  supine-recline       right side        211"
      ]
     },
     "execution_count": 38,
     "metadata": {},
     "output_type": "execute_result"
    }
   ],
   "source": [
    "gp_df.sort_values(by = 'Body Rotation')"
   ]
  },
  {
   "cell_type": "code",
   "execution_count": 39,
   "id": "aa03fb38",
   "metadata": {},
   "outputs": [
    {
     "data": {
      "text/plain": [
       "1     6323\n",
       "4    11747\n",
       "3    14075\n",
       "0    16179\n",
       "6    18181\n",
       "5    18392\n",
       "2    18593\n",
       "Name: Row Count, dtype: int64"
      ]
     },
     "execution_count": 39,
     "metadata": {},
     "output_type": "execute_result"
    }
   ],
   "source": [
    "gp_df['Row Count'].cumsum()"
   ]
  }
 ],
 "metadata": {
  "kernelspec": {
   "display_name": "Python 3 (ipykernel)",
   "language": "python",
   "name": "python3"
  },
  "language_info": {
   "codemirror_mode": {
    "name": "ipython",
    "version": 3
   },
   "file_extension": ".py",
   "mimetype": "text/x-python",
   "name": "python",
   "nbconvert_exporter": "python",
   "pygments_lexer": "ipython3",
   "version": "3.11.4"
  }
 },
 "nbformat": 4,
 "nbformat_minor": 5
}
